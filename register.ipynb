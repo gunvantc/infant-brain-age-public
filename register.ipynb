{
 "cells": [
  {
   "cell_type": "markdown",
   "metadata": {},
   "source": [
    "# Register Skullstripped T1 and T2 MRIs to Atlas"
   ]
  },
  {
   "cell_type": "code",
   "execution_count": null,
   "metadata": {},
   "outputs": [],
   "source": [
    "#Register to atlas image (MNI305) using FLIRT tool from FSL\n",
    "import nibabel as nib\n",
    "from subprocess import PIPE, run\n",
    "import traceback\n",
    "import os\n",
    "import glob\n",
    "import multiprocessing\n"
   ]
  },
  {
   "cell_type": "code",
   "execution_count": null,
   "metadata": {},
   "outputs": [],
   "source": [
    "#Variables to change\n",
    "\n",
    "#root directory\n",
    "rt_dir='../infantBrainAge/'\n",
    "\n",
    "#directory in root where skullstripped nifti image files to process are located\n",
    "nifti_dir='nifti_all_nih'\n",
    "\n",
    "#Atlas image location\n",
    "ref_im='../infantBrainAge/resources/mni305/average305_t1_tal_lin_skullstripped.nii' \n",
    "\n",
    "#T1 match pattern (using glob)\n",
    "T1_pattern = 'T1__*_skullstripped.nii.gz'\n",
    "\n",
    "#T2 match pattern\n",
    "T2_pattern = 'T2__*_skullstripped.nii.gz'\n",
    "\n",
    "#Output file name and/or full path. This file will be used for training\n",
    "sv_file_name = 'T1_T2_registered.csv'"
   ]
  },
  {
   "cell_type": "code",
   "execution_count": null,
   "metadata": {},
   "outputs": [],
   "source": [
    "def register_im(in_file):\n",
    "    \n",
    "    \n",
    "    output=in_file\n",
    "    if os.path.exists(in_file):\n",
    "        try:\n",
    "\n",
    "            # reference Atlas image file (must be skullstripped, in 'nifti form')\n",
    "\n",
    "            command = ['flirt', '-in', in_file, '-ref', ref_im, '-out', in_file.replace('.nii.gz','_registered.nii.gz'),\n",
    "                      '-omat', in_file.replace('.nii.gz','_flirt.mat'), '-dof', '12']\n",
    "            result = run(command, stdout=PIPE, stderr=PIPE, universal_newlines=True)\n",
    "            return output, str(result.stdout), in_file.replace('.nii.gz','_registered.nii.gz')\n",
    "\n",
    "        except:\n",
    "            return output, traceback.format_exc(), None\n",
    "\n",
    "    else:\n",
    "        output+='\\nno files found\\n\\n'\n",
    "      "
   ]
  },
  {
   "cell_type": "code",
   "execution_count": null,
   "metadata": {},
   "outputs": [],
   "source": [
    "# Processing T1 files\n",
    "all_files_to_register = glob.glob(os.path.join(rt_dir, nifti_dir, T1_pattern))\n",
    "print(len(all_files_to_register))\n",
    "pool = multiprocessing.Pool(28)\n",
    "outputs_t1, fxn_outputs_t1, all_registered_ims_t1 = zip(*pool.map(register_im, all_files_to_register))\n",
    "\n",
    "# Processing T2 files\n",
    "all_files_to_register = glob.glob(os.path.join(rt_dir, nifti_dir, T2_pattern))\n",
    "print(len(all_files_to_register))\n",
    "pool = multiprocessing.Pool(28)\n",
    "outputs_t2, fxn_outputs_t2, all_registered_ims_t2 = zip(*pool.map(register_im, all_files_to_register))"
   ]
  },
  {
   "cell_type": "code",
   "execution_count": null,
   "metadata": {},
   "outputs": [],
   "source": [
    "# Saving outputs for use during training\n",
    "registered_df = pd.DataFrame({'acc_nums':[x.split('/')[-2] for x in all_registered_ims_t1], \n",
    "                              'T1_registered_images':all_registered_ims_t1, \n",
    "                              'T2_registered_images':all_registered_ims_t2})\n",
    "registered_df.to_csv(sv_file_name, index=False)"
   ]
  }
 ],
 "metadata": {
  "kernelspec": {
   "display_name": "Python 3",
   "language": "python",
   "name": "python3"
  },
  "language_info": {
   "codemirror_mode": {
    "name": "ipython",
    "version": 3
   },
   "file_extension": ".py",
   "mimetype": "text/x-python",
   "name": "python",
   "nbconvert_exporter": "python",
   "pygments_lexer": "ipython3",
   "version": "3.6.9"
  }
 },
 "nbformat": 4,
 "nbformat_minor": 4
}
