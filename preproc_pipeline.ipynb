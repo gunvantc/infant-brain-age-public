{
 "cells": [
  {
   "cell_type": "code",
   "execution_count": null,
   "metadata": {},
   "outputs": [],
   "source": [
    "import pydicom\n",
    "from pydicom.filereader import dcmread\n",
    "import numpy as np\n",
    "import pandas as pd\n",
    "import os\n",
    "import shutil\n",
    "import sys\n"
   ]
  },
  {
   "cell_type": "markdown",
   "metadata": {},
   "source": [
    "# Convert Dicom to Nifti files"
   ]
  },
  {
   "cell_type": "code",
   "execution_count": null,
   "metadata": {
    "scrolled": true
   },
   "outputs": [],
   "source": [
    "from pydicom.filereader import dcmread\n",
    "import glob\n",
    "from tqdm import tqdm\n",
    "tqdm.pandas()\n",
    "\n",
    "#Convert dicom folders into nifti images while preseving file structure\n",
    "\n",
    "\n",
    "rt_dir = '../infantBrainAge' #Root directory\n",
    "rd_dir = 'raw_dataset_all'  #Directory of raw data (in root)\n",
    "sv_dir = 'nifti_all_v2'  #Directory to save (in root)\n",
    "\n",
    "pd_file = ' ' #Dataframe file with dicom folder names for each modality in separate fields and the rt_dir in 'bases' \n",
    "              #e.g. Header:    'T1'  | 'T2'  |  'bases'\n",
    "              #Note: 'bases' should be organized as $root_dir/$accesion_number/\n",
    "              \n",
    "grouped_master_file_df = pd.read_pickle(pd_file)\n",
    "\n",
    "for _, row in tqdm(grouped_master_file_df.iterrows(), total=len(grouped_master_file_df)):\n",
    "    \n",
    "    this_acc = row.bases.split('/')[-1]\n",
    "    print(this_acc)\n",
    "    output_folder = os.path.join(rt_dir,sv_dir,this_acc)\n",
    "    if not os.path.isdir(output_folder):\n",
    "        os.mkdir(output_folder)\n",
    "    \n",
    "\n",
    "    for T1_file in row.T1:\n",
    "        dicom_directory = os.path.join(rt_dir, rd_dir, this_acc, T1_file)\n",
    "        output_file = 'T1' + '___' + T1_file\n",
    "        !dcm2niix -z y -o {output_folder} -f {output_file} {dicom_directory}\n",
    "    \n",
    "    for T2_file in row.T2:\n",
    "        dicom_directory = os.path.join(rt_dir, rd_dir, this_acc, T2_file)\n",
    "        output_file = 'T2' + '___' + T2_file\n",
    "        !dcm2niix -z y -o {output_folder} -f {output_file} {dicom_directory}\n",
    "    \n",
    "    print()\n",
    "    "
   ]
  },
  {
   "cell_type": "markdown",
   "metadata": {},
   "source": [
    "# Batch Skullstrip"
   ]
  },
  {
   "cell_type": "code",
   "execution_count": null,
   "metadata": {},
   "outputs": [],
   "source": [
    "# This will not work if you're not using my version of David's code (made some small changes to multiple files \n",
    "# to allow for faster batch processing) at: \n",
    "#    /data/rauschecker1/infantBrainAge/dweiss044-multipurpose_unet-1a072dd4d244/\n",
    "\n",
    "import pydicom\n",
    "from pydicom.filereader import dcmread\n",
    "import numpy as np\n",
    "import pandas as pd\n",
    "import os\n",
    "import shutil\n",
    "import sys\n",
    "import random\n",
    "import traceback\n",
    "import math\n",
    "import glob\n",
    "\n",
    "#import skullstripping library"
   ]
  },
  {
   "cell_type": "code",
   "execution_count": null,
   "metadata": {},
   "outputs": [],
   "source": [
    "\n",
    "#The directory in which images are stored\n",
    "rt_dir = '../infantBrainAge'\n",
    "data_dir =  os.path.join(rt_dir,'nifti_all_nih')\n",
    "\n",
    "#Directory where outputs will be saved\n",
    "sv_dir = os.path.join('../infantBrainAge','A DIRECTORY TO SAVE IN')\n",
    "if not os.path.isdir(sv_dir):\n",
    "    os.mkdir(sv_dir)"
   ]
  },
  {
   "cell_type": "code",
   "execution_count": null,
   "metadata": {},
   "outputs": [],
   "source": [
    "# Dataframe with filepaths for each modality AND unique_id for each image to register\n",
    "\n",
    "#Mapping from modality to dataframe column with filename\n",
    "data_field_map = {'T1': 'mri_native_t1_nii_file', 'T2': 'mri_native_t2_nii_file'} "
   ]
  },
  {
   "cell_type": "code",
   "execution_count": null,
   "metadata": {
    "scrolled": true
   },
   "outputs": [],
   "source": [
    "\n",
    "#Initialize skullstripping class here\n",
    "#...\n",
    "\n",
    "for mod in ['T1','T2']: #['T1','T2','ADC']:\n",
    "    \n",
    "    in_files = []\n",
    "    subjectIDs = []\n",
    "    for _, row in meta_file.iterrows():\n",
    "        if not pd.isna( row[data_field_map[mod]] ):\n",
    "            \n",
    "            in_files.append( row[data_field_map[mod]] )\n",
    "    \n",
    "    print('\\n\\nProcessing predictions..\\n')\n",
    "    \n",
    "    for iii in range(len(in_files)):\n",
    "        image_in = in_files[iii]\n",
    "        print(image_in)\n",
    "        image_out = os.path.join(sv_dir,image_in.split('/')[-1].replace('.nii.gz','_skullstripped.nii.gz'))\n",
    "        \n",
    "        #Run prediction of image_in and save in image_out here\n",
    "        #..."
   ]
  }
 ],
 "metadata": {
  "kernelspec": {
   "display_name": "Python 3",
   "language": "python",
   "name": "python3"
  },
  "language_info": {
   "codemirror_mode": {
    "name": "ipython",
    "version": 3
   },
   "file_extension": ".py",
   "mimetype": "text/x-python",
   "name": "python",
   "nbconvert_exporter": "python",
   "pygments_lexer": "ipython3",
   "version": "3.6.9"
  }
 },
 "nbformat": 4,
 "nbformat_minor": 4
}
